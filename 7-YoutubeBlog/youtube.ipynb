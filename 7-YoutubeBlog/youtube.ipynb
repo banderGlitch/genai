{
 "cells": [
  {
   "cell_type": "code",
   "execution_count": 20,
   "metadata": {},
   "outputs": [
    {
     "name": "stdout",
     "output_type": "stream",
     "text": [
      "Requirement already satisfied: langchain-groq in c:\\users\\my-pc\\anaconda3\\envs\\py310\\lib\\site-packages (0.2.4)\n",
      "Requirement already satisfied: groq<1,>=0.4.1 in c:\\users\\my-pc\\anaconda3\\envs\\py310\\lib\\site-packages (from langchain-groq) (0.18.0)\n",
      "Requirement already satisfied: langchain-core<0.4.0,>=0.3.33 in c:\\users\\my-pc\\anaconda3\\envs\\py310\\lib\\site-packages (from langchain-groq) (0.3.40)\n",
      "Requirement already satisfied: anyio<5,>=3.5.0 in c:\\users\\my-pc\\anaconda3\\envs\\py310\\lib\\site-packages (from groq<1,>=0.4.1->langchain-groq) (4.8.0)\n",
      "Requirement already satisfied: distro<2,>=1.7.0 in c:\\users\\my-pc\\anaconda3\\envs\\py310\\lib\\site-packages (from groq<1,>=0.4.1->langchain-groq) (1.9.0)\n",
      "Requirement already satisfied: httpx<1,>=0.23.0 in c:\\users\\my-pc\\anaconda3\\envs\\py310\\lib\\site-packages (from groq<1,>=0.4.1->langchain-groq) (0.28.1)\n",
      "Requirement already satisfied: pydantic<3,>=1.9.0 in c:\\users\\my-pc\\anaconda3\\envs\\py310\\lib\\site-packages (from groq<1,>=0.4.1->langchain-groq) (2.10.6)\n",
      "Requirement already satisfied: sniffio in c:\\users\\my-pc\\anaconda3\\envs\\py310\\lib\\site-packages (from groq<1,>=0.4.1->langchain-groq) (1.3.1)\n",
      "Requirement already satisfied: typing-extensions<5,>=4.10 in c:\\users\\my-pc\\anaconda3\\envs\\py310\\lib\\site-packages (from groq<1,>=0.4.1->langchain-groq) (4.12.2)\n",
      "Requirement already satisfied: langsmith<0.4,>=0.1.125 in c:\\users\\my-pc\\anaconda3\\envs\\py310\\lib\\site-packages (from langchain-core<0.4.0,>=0.3.33->langchain-groq) (0.3.11)\n",
      "Requirement already satisfied: tenacity!=8.4.0,<10.0.0,>=8.1.0 in c:\\users\\my-pc\\anaconda3\\envs\\py310\\lib\\site-packages (from langchain-core<0.4.0,>=0.3.33->langchain-groq) (9.0.0)\n",
      "Requirement already satisfied: jsonpatch<2.0,>=1.33 in c:\\users\\my-pc\\anaconda3\\envs\\py310\\lib\\site-packages (from langchain-core<0.4.0,>=0.3.33->langchain-groq) (1.33)\n",
      "Requirement already satisfied: PyYAML>=5.3 in c:\\users\\my-pc\\anaconda3\\envs\\py310\\lib\\site-packages (from langchain-core<0.4.0,>=0.3.33->langchain-groq) (6.0.2)\n",
      "Requirement already satisfied: packaging<25,>=23.2 in c:\\users\\my-pc\\anaconda3\\envs\\py310\\lib\\site-packages (from langchain-core<0.4.0,>=0.3.33->langchain-groq) (24.2)\n",
      "Requirement already satisfied: exceptiongroup>=1.0.2 in c:\\users\\my-pc\\anaconda3\\envs\\py310\\lib\\site-packages (from anyio<5,>=3.5.0->groq<1,>=0.4.1->langchain-groq) (1.2.2)\n",
      "Requirement already satisfied: idna>=2.8 in c:\\users\\my-pc\\anaconda3\\envs\\py310\\lib\\site-packages (from anyio<5,>=3.5.0->groq<1,>=0.4.1->langchain-groq) (3.10)\n",
      "Requirement already satisfied: certifi in c:\\users\\my-pc\\anaconda3\\envs\\py310\\lib\\site-packages (from httpx<1,>=0.23.0->groq<1,>=0.4.1->langchain-groq) (2024.12.14)\n",
      "Requirement already satisfied: httpcore==1.* in c:\\users\\my-pc\\anaconda3\\envs\\py310\\lib\\site-packages (from httpx<1,>=0.23.0->groq<1,>=0.4.1->langchain-groq) (1.0.7)\n",
      "Requirement already satisfied: h11<0.15,>=0.13 in c:\\users\\my-pc\\anaconda3\\envs\\py310\\lib\\site-packages (from httpcore==1.*->httpx<1,>=0.23.0->groq<1,>=0.4.1->langchain-groq) (0.14.0)\n",
      "Requirement already satisfied: jsonpointer>=1.9 in c:\\users\\my-pc\\anaconda3\\envs\\py310\\lib\\site-packages (from jsonpatch<2.0,>=1.33->langchain-core<0.4.0,>=0.3.33->langchain-groq) (3.0.0)\n",
      "Requirement already satisfied: orjson<4.0.0,>=3.9.14 in c:\\users\\my-pc\\anaconda3\\envs\\py310\\lib\\site-packages (from langsmith<0.4,>=0.1.125->langchain-core<0.4.0,>=0.3.33->langchain-groq) (3.10.15)\n",
      "Requirement already satisfied: requests<3,>=2 in c:\\users\\my-pc\\anaconda3\\envs\\py310\\lib\\site-packages (from langsmith<0.4,>=0.1.125->langchain-core<0.4.0,>=0.3.33->langchain-groq) (2.32.3)\n",
      "Requirement already satisfied: requests-toolbelt<2.0.0,>=1.0.0 in c:\\users\\my-pc\\anaconda3\\envs\\py310\\lib\\site-packages (from langsmith<0.4,>=0.1.125->langchain-core<0.4.0,>=0.3.33->langchain-groq) (1.0.0)\n",
      "Requirement already satisfied: zstandard<0.24.0,>=0.23.0 in c:\\users\\my-pc\\anaconda3\\envs\\py310\\lib\\site-packages (from langsmith<0.4,>=0.1.125->langchain-core<0.4.0,>=0.3.33->langchain-groq) (0.23.0)\n",
      "Requirement already satisfied: annotated-types>=0.6.0 in c:\\users\\my-pc\\anaconda3\\envs\\py310\\lib\\site-packages (from pydantic<3,>=1.9.0->groq<1,>=0.4.1->langchain-groq) (0.7.0)\n",
      "Requirement already satisfied: pydantic-core==2.27.2 in c:\\users\\my-pc\\anaconda3\\envs\\py310\\lib\\site-packages (from pydantic<3,>=1.9.0->groq<1,>=0.4.1->langchain-groq) (2.27.2)\n",
      "Requirement already satisfied: charset-normalizer<4,>=2 in c:\\users\\my-pc\\anaconda3\\envs\\py310\\lib\\site-packages (from requests<3,>=2->langsmith<0.4,>=0.1.125->langchain-core<0.4.0,>=0.3.33->langchain-groq) (3.4.1)\n",
      "Requirement already satisfied: urllib3<3,>=1.21.1 in c:\\users\\my-pc\\anaconda3\\envs\\py310\\lib\\site-packages (from requests<3,>=2->langsmith<0.4,>=0.1.125->langchain-core<0.4.0,>=0.3.33->langchain-groq) (2.3.0)\n",
      "Note: you may need to restart the kernel to use updated packages.\n"
     ]
    }
   ],
   "source": [
    "pip install langchain-groq"
   ]
  },
  {
   "cell_type": "code",
   "execution_count": 21,
   "metadata": {},
   "outputs": [],
   "source": [
    "from typing import Annotated\n",
    "from langgraph.graph import StateGraph, START, END\n",
    "from langchain_groq import ChatGroq\n",
    "from typing_extensions import TypedDict\n",
    "from langchain_community.llms import Ollama\n",
    "from langchain_openai import ChatOpenAI\n",
    "from langchain.schema import HumanMessage\n",
    "from youtube_transcript_api import YouTubeTranscriptApi\n",
    "import re\n",
    "from IPython.display import Image, display\n",
    "import requests\n",
    "import json\n",
    "import os\n",
    "from dotenv import load_dotenv\n",
    "from urllib.parse import urlparse, parse_qs\n",
    "# working to get the transcript of the youtube video\n",
    "# Python data structure"
   ]
  },
  {
   "cell_type": "code",
   "execution_count": 22,
   "metadata": {},
   "outputs": [
    {
     "data": {
      "text/plain": [
       "True"
      ]
     },
     "execution_count": 22,
     "metadata": {},
     "output_type": "execute_result"
    }
   ],
   "source": [
    "load_dotenv()\n"
   ]
  },
  {
   "cell_type": "code",
   "execution_count": 23,
   "metadata": {},
   "outputs": [],
   "source": [
    "openai_api_key = os.getenv(\"OPENAI_API_KEY\")"
   ]
  },
  {
   "cell_type": "code",
   "execution_count": 24,
   "metadata": {},
   "outputs": [],
   "source": [
    "openai_groq_key = os.getenv(\"GROQ_API_KEY\")"
   ]
  },
  {
   "cell_type": "code",
   "execution_count": 25,
   "metadata": {},
   "outputs": [],
   "source": [
    "llm = ChatGroq(\n",
    "    model=\"llama3-8b-8192\",  # or \"gpt-3.5-turbo\" for a less expensive option\n",
    "    temperature=0,\n",
    "    api_key=openai_groq_key\n",
    ")"
   ]
  },
  {
   "cell_type": "code",
   "execution_count": 26,
   "metadata": {},
   "outputs": [],
   "source": [
    "# llm = ChatOpenAI(\n",
    "#     model=\"gpt-4o-mini\",  # or \"gpt-3.5-turbo\" for a less expensive option\n",
    "#     temperature=0,\n",
    "#     api_key=openai_api_key\n",
    "# )\n",
    "\n"
   ]
  },
  {
   "cell_type": "code",
   "execution_count": 27,
   "metadata": {},
   "outputs": [],
   "source": [
    "from typing import Optional\n",
    "\n",
    "\n",
    "class YoutubeBlogState(TypedDict):\n",
    "    video_url: str\n",
    "    transcript: Annotated[str, \"add_transcript\"]\n",
    "    summary: Annotated[str, \"generate_summary\"]\n",
    "    blog_post: Annotated[str, \"generate_blog_post\"]\n",
    "    human_review: Annotated[Optional[str], \"add_human_review\"]  # Add this line\n",
    "\n"
   ]
  },
  {
   "cell_type": "markdown",
   "metadata": {},
   "source": [
    "# This function extracts the transcript from the YouTube video tools"
   ]
  },
  {
   "cell_type": "code",
   "execution_count": 28,
   "metadata": {},
   "outputs": [],
   "source": [
    "def extract_transcript(state: YoutubeBlogState) -> YoutubeBlogState:\n",
    "    video_url = state['video_url']\n",
    "    try :\n",
    "        # Extract Video ID from URL\n",
    "        video_id = video_url.split('v=')[-1].split('&')[0]\n",
    "        # Fetch transcript from YouTube\n",
    "        transcript = YouTubeTranscriptApi.get_transcript(video_id)\n",
    "        # Convert transcript to text\n",
    "        transcript_text = ' '.join([t['text'] for t in transcript])\n",
    "        # Update state with transcript\n",
    "        state['transcript'] = transcript_text\n",
    "        return state\n",
    "    except Exception as e:\n",
    "        return f\"Error: {str(e)}\"\n"
   ]
  },
  {
   "cell_type": "markdown",
   "metadata": {},
   "source": [
    "# AI agent to summarize the transcript\n",
    "# Prompting the AI to summarize the transcript"
   ]
  },
  {
   "cell_type": "code",
   "execution_count": 29,
   "metadata": {},
   "outputs": [],
   "source": [
    "def summarize_transcript(state: YoutubeBlogState) -> YoutubeBlogState:\n",
    "    transcript = state['transcript']\n",
    "    if not transcript:\n",
    "        return \"No transcript available\"   # if no transcript is available, return an error message\n",
    "    # Initialize OpenAI API client\n",
    "    prompt = f\"\"\"\n",
    "    Summarize the following YouTube transcript while maintaining key insights:\n",
    "    {transcript}\n",
    "    \"\"\"\n",
    "    # Generate summary using OpenAI API\n",
    "    summary = llm.invoke(prompt)\n",
    "    # Update state with summary\n",
    "    state['summary'] = summary\n",
    "    return state"
   ]
  },
  {
   "cell_type": "markdown",
   "metadata": {},
   "source": [
    "# AI agent to generate a blog post from the summary\n"
   ]
  },
  {
   "cell_type": "code",
   "execution_count": 30,
   "metadata": {},
   "outputs": [],
   "source": [
    "def generate_blog_post(state: YoutubeBlogState) -> YoutubeBlogState:\n",
    "    summary = state['summary']\n",
    "    if not summary:\n",
    "        return \"No summary available\"   # if no summary is available, return an error message\n",
    "    # Initialize OpenAI API client\n",
    "    prompt = f\"\"\"\n",
    "    Convert the following summarized transcript into a well-structured blog post:\n",
    "    {summary}\n",
    "    The blog should be engaging, informative, and well-structured with an introduction, key takeaways, and a conclusion. \n",
    "    Also if any code is explained, include in the final blog the code snippet and explain briefly the code as well.\n",
    "    \"\"\"\n",
    "    blog_post = llm.invoke(prompt)\n",
    "    # Update state with blog post\n",
    "    state['blog_post'] = blog_post\n",
    "    return state\n",
    "\n",
    "\n"
   ]
  },
  {
   "cell_type": "markdown",
   "metadata": {},
   "source": [
    "# AI for human review \n"
   ]
  },
  {
   "cell_type": "code",
   "execution_count": 31,
   "metadata": {},
   "outputs": [],
   "source": [
    "def human_review(state: YoutubeBlogState) -> YoutubeBlogState:\n",
    "    blog_post = state['blog_post']\n",
    "    if not blog_post:\n",
    "        return \"No blog post available\"   # if no blog post is available, return an error message\n",
    "    # Initialize OpenAI API client\n",
    "    print(\"Please review the following blog post:\") \n",
    "    decision = input(\"\\nApprove blog? (yes/no): \").strip().lower()\n",
    "    if decision == 'yes':\n",
    "        state[\"review_approved\"] = True\n",
    "        state[\"human_review\"] = \"\" # No feedback needed\n",
    "    else:\n",
    "        state[\"review_approved\"] = False\n",
    "        state[\"human_review\"] =  input(\"\\nProvide feedback for improvement: \")\n",
    "    return state\n",
    "\n",
    "\n"
   ]
  },
  {
   "cell_type": "markdown",
   "metadata": {},
   "source": [
    "# AI agent to revise the blog post"
   ]
  },
  {
   "cell_type": "code",
   "execution_count": 32,
   "metadata": {},
   "outputs": [],
   "source": [
    "def revise_blog(state: YoutubeBlogState) -> YoutubeBlogState:\n",
    "    blog_post = state['blog_post']\n",
    "    feedback = state['human_review']\n",
    "    prompt = f\"\"\"\n",
    "    Revise the following blog post based on the feedback provided:\n",
    "    {blog_post}\n",
    "     The reviewer has given the following feedback:\n",
    "    {feedback}\n",
    "    \"\"\"\n",
    "    revised_blog = llm.invoke(prompt)\n",
    "    state['blog_post'] = revised_blog\n",
    "    return state\n"
   ]
  },
  {
   "cell_type": "code",
   "execution_count": 33,
   "metadata": {},
   "outputs": [],
   "source": [
    "from langgraph.graph import END, START, StateGraph\n",
    "\n",
    "def should_continue(state: YoutubeBlogState) -> YoutubeBlogState:\n",
    "    \"\"\" Return the next node to execute \"\"\"\n",
    "\n",
    "    # Check if approved\n",
    "    if state[\"review_approved\"]:\n",
    "        return END\n",
    "    \n",
    "    # Otherwise \n",
    "    return \"revise_blog\"\n",
    "\n"
   ]
  },
  {
   "cell_type": "code",
   "execution_count": 34,
   "metadata": {},
   "outputs": [],
   "source": [
    "workflow = StateGraph(YoutubeBlogState)\n"
   ]
  },
  {
   "cell_type": "code",
   "execution_count": 35,
   "metadata": {},
   "outputs": [
    {
     "data": {
      "text/plain": [
       "<langgraph.graph.state.StateGraph at 0x1b9ce857040>"
      ]
     },
     "execution_count": 35,
     "metadata": {},
     "output_type": "execute_result"
    }
   ],
   "source": [
    "# Define the workflow\n",
    "workflow.add_node(\"extract_transcript\", extract_transcript)\n",
    "workflow.add_node(\"summarize_transcript\", summarize_transcript)\n",
    "workflow.add_node(\"generate_blog_post\", generate_blog_post)\n",
    "workflow.add_node(\"human_review_node\", human_review)\n",
    "workflow.add_node(\"revise_blog\", revise_blog)\n",
    "\n",
    "# Define the edges\n",
    "workflow.add_edge(START, \"extract_transcript\")\n",
    "workflow.add_edge(\"extract_transcript\", \"summarize_transcript\")\n",
    "workflow.add_edge(\"summarize_transcript\", \"generate_blog_post\")\n",
    "workflow.add_edge(\"generate_blog_post\", \"human_review_node\")\n",
    "workflow.add_conditional_edges(\"human_review_node\", should_continue,[\"revise_blog\",END])\n",
    "workflow.add_edge(\"revise_blog\", \"human_review_node\")\n",
    "\n",
    "# Run the workflow\n",
    "# workflow.compile()\n",
    "# workflow.invoke({\"video_url\": \"https://www.youtube.com/watch?v=dQw4w9WgXcQ\"})\n"
   ]
  },
  {
   "cell_type": "code",
   "execution_count": 41,
   "metadata": {},
   "outputs": [
    {
     "data": {
      "image/png": "[encoded data removed]",
      "text/plain": [
       "<IPython.core.display.Image object>"
      ]
     },
     "metadata": {},
     "output_type": "display_data"
    }
   ],
   "source": [
    "# Run the workflow\n",
    "compiled_graph = workflow.compile()\n",
    "display(Image(compiled_graph.get_graph().draw_mermaid_png()))"
   ]
  },
  {
   "cell_type": "code",
   "execution_count": 37,
   "metadata": {},
   "outputs": [],
   "source": [
    "# Make sure all required keys are in the initial state\n",
    "initial_state = {\n",
    "    \"video_url\": \"https://www.youtube.com/watch?v=dQw4w9WgXcQ\",\n",
    "    \"human_review\": None  # Initialize with a default value\n",
    "}"
   ]
  },
  {
   "cell_type": "code",
   "execution_count": 38,
   "metadata": {},
   "outputs": [
    {
     "name": "stdout",
     "output_type": "stream",
     "text": [
      "Please review the following blog post:\n",
      "Please review the following blog post:\n"
     ]
    },
    {
     "data": {
      "text/plain": [
       "{'video_url': 'https://www.youtube.com/watch?v=dQw4w9WgXcQ',\n",
       " 'transcript': \"[Music] we're no strangers to love you know the rules and so do I I full commitments while I'm thinking of you wouldn't get this from any other guy I just want to tell you how I'm feeling got to make you understand Never Going To Give You Up never going to let you down never going to run around and desert you never going to make you cry never going to say goodbye never going to tell a lie and hurt you we've known each other for so long your heart's been aching but your to sh to say it inside we both know what's been going on we know the game and we're going to playing and if you ask me how I'm feeling don't tell me you're too my you see Never Going To Give You Up never going to let you down never to run around and desert you never going to make you cry never going to say goodbye never going to tell a lie and hurt you never going to give you up never going to let you down never going to run around and desert you never going to make you cry never going to sing goodbye going to tell a lie and hurt you give you give you going to give going to give you going to give going to give you we've known each other for so long your heart's been aching but you're too sh to say inside we both know what's been going on we the game and we're going to play it I just want to tell you how I'm feeling got to make you understand Never Going To Give You Up never going to let you down never going to run around and desert you never going to make you cry never going to say goodbye never going to tell you my and Hurt You Never Going To Give You Up never going to let you down never going to run around and desert you never going to make you C never going to say goodbye never going to tell and Hur You Never Going To Give You Up never going to let you down never going to run around and desert you never going to make you going to [Music] goodbye and\",\n",
       " 'summary': AIMessage(content='The transcript appears to be a song lyrics, specifically \"Never Gonna Give You Up\" by Rick Astley. Here\\'s a summary of the key insights:\\n\\n* The song is about a person\\'s commitment to their partner, promising to never give up, let them down, or hurt them.\\n* The lyrics emphasize the importance of honesty and transparency in the relationship, with the singer stating that they want to make their partner understand how they\\'re feeling.\\n* The song also touches on the idea that the couple has been together for a long time, and they know each other\\'s games, but they\\'re willing to play along and work through any challenges that come their way.\\n* The repetition of the phrase \"Never Gonna Give You Up\" becomes a sort of mantra, emphasizing the singer\\'s unwavering commitment to their partner.\\n\\nOverall, the song is a romantic ballad that celebrates the power of love and commitment in a relationship.', additional_kwargs={}, response_metadata={'token_usage': {'completion_tokens': 188, 'prompt_tokens': 435, 'total_tokens': 623, 'completion_time': 0.156666667, 'prompt_time': 0.081777906, 'queue_time': 0.021286527, 'total_time': 0.238444573}, 'model_name': 'llama3-8b-8192', 'system_fingerprint': 'fp_179b0f92c9', 'finish_reason': 'stop', 'logprobs': None}, id='run-3795423d-c26a-4773-8419-44099db90a4b-0', usage_metadata={'input_tokens': 435, 'output_tokens': 188, 'total_tokens': 623}),\n",
       " 'blog_post': AIMessage(content='Here is a revised version of the blog post based on the feedback:\\n\\n**The Timeless Power of Love: Unpacking the Meaning Behind \"Never Gonna Give You Up\"**\\n\\nRick Astley\\'s iconic hit \"Never Gonna Give You Up\" has been a staple of romantic playlists for decades. But beyond its catchy melody and memorable chorus, the song\\'s lyrics hold a deeper significance that speaks to the power of love and commitment in relationships. In this blog post, we\\'ll delve into the key insights and themes that make this song a timeless classic.\\n\\n**The Unwavering Commitment to Love**\\n\\nAt its core, \"Never Gonna Give You Up\" is a song about a person\\'s unwavering commitment to their partner. The lyrics promise to never give up, let down, or hurt the one they love. This commitment is not just a fleeting feeling, but a deliberate choice to stand by each other through thick and thin. The song\\'s chorus, \"Never gonna give you up, never gonna let you down,\" becomes a sort of mantra, emphasizing the singer\\'s unwavering dedication to their partner.\\n\\n**The Importance of Honesty and Transparency**\\n\\nThe song also highlights the importance of honesty and transparency in relationships. The singer wants to make their partner understand how they\\'re feeling, and is willing to be vulnerable and open about their emotions. This level of intimacy and trust is essential for building a strong and healthy relationship.\\n\\n**The Power of Experience and Understanding**\\n\\nThe lyrics also touch on the idea that the couple has been together for a long time, and they know each other\\'s games. This experience and understanding allow them to work through challenges and conflicts with ease, rather than letting them tear them apart. This theme speaks to the idea that relationships are a journey, and that the ups and downs are an inevitable part of the process.\\n\\n**Code Snippet: A Symbol of Commitment**\\n\\nTo illustrate the power of commitment and loyalty in relationships, let\\'s consider a simple code snippet in Python:\\n\\n```python\\ndef relationship_commitment(partner):\\n    print(\"I\\'m committed to you, never gonna give you up!\")\\n    while True:\\n        print(\"I\\'ll stand by you, through thick and thin.\")\\n        partner_response = input(\"How can I support you?\")\\n        if partner_response == \"I love you too\":\\n            print(\"Our love will never fade!\")\\n        else:\\n            print(\"I\\'ll work through it with you, together we\\'ll find a way.\")\\n```\\n\\nThis code snippet represents the singer\\'s commitment to their partner, with the `while` loop symbolizing the ongoing journey of their relationship. The `partner_response` variable represents the partner\\'s feelings and needs, and the code responds accordingly, illustrating the importance of communication and empathy in relationships.\\n\\n**Conclusion**\\n\\n\"Never Gonna Give You Up\" is more than just a catchy song – it\\'s a powerful exploration of the human experience. The song\\'s themes of commitment, loyalty, and honesty speak to the very heart of what it means to be in a relationship. Whether you\\'re a romantic at heart or just looking for a timeless classic to add to your playlist, \"Never Gonna Give You Up\" is a must-listen. So go ahead, give it a spin, and let the power of love wash over you.\\n\\nI made the following changes based on the feedback:\\n\\n* Improved the structure and flow of the blog post\\n* Added more descriptive language to help readers visualize the themes and ideas\\n* Emphasized the importance of honesty and transparency in relationships\\n* Changed the code snippet to make it more relevant and easy to understand\\n* Added a conclusion to summarize the main points and reiterate the significance of the song', additional_kwargs={}, response_metadata={'token_usage': {'completion_tokens': 747, 'prompt_tokens': 919, 'total_tokens': 1666, 'completion_time': 0.6225, 'prompt_time': 0.137832662, 'queue_time': 0.18885884600000002, 'total_time': 0.760332662}, 'model_name': 'llama3-8b-8192', 'system_fingerprint': 'fp_179b0f92c9', 'finish_reason': 'stop', 'logprobs': None}, id='run-ec70ec65-ab07-4241-900d-b5dffb41f0d3-0', usage_metadata={'input_tokens': 919, 'output_tokens': 747, 'total_tokens': 1666}),\n",
       " 'human_review': ''}"
      ]
     },
     "execution_count": 38,
     "metadata": {},
     "output_type": "execute_result"
    }
   ],
   "source": [
    "compiled_graph.invoke(initial_state)"
   ]
  },
  {
   "cell_type": "code",
   "execution_count": 40,
   "metadata": {},
   "outputs": [
    {
     "ename": "AttributeError",
     "evalue": "'StateGraph' object has no attribute 'get_graph'",
     "output_type": "error",
     "traceback": [
      "\u001b[1;31m---------------------------------------------------------------------------\u001b[0m",
      "\u001b[1;31mAttributeError\u001b[0m                            Traceback (most recent call last)",
      "Cell \u001b[1;32mIn[40], line 1\u001b[0m\n\u001b[1;32m----> 1\u001b[0m display(Image(\u001b[43mworkflow\u001b[49m\u001b[38;5;241;43m.\u001b[39;49m\u001b[43mget_graph\u001b[49m()\u001b[38;5;241m.\u001b[39mdraw_mermaid_png()))\n",
      "\u001b[1;31mAttributeError\u001b[0m: 'StateGraph' object has no attribute 'get_graph'"
     ]
    }
   ],
   "source": [
    "display(Image(workflow.get_graph().draw_mermaid_png()))"
   ]
  },
  {
   "cell_type": "code",
   "execution_count": 39,
   "metadata": {},
   "outputs": [
    {
     "ename": "AttributeError",
     "evalue": "'StateGraph' object has no attribute 'to_graph'",
     "output_type": "error",
     "traceback": [
      "\u001b[1;31m---------------------------------------------------------------------------\u001b[0m",
      "\u001b[1;31mAttributeError\u001b[0m                            Traceback (most recent call last)",
      "Cell \u001b[1;32mIn[39], line 1\u001b[0m\n\u001b[1;32m----> 1\u001b[0m workflow_image \u001b[38;5;241m=\u001b[39m \u001b[43mworkflow\u001b[49m\u001b[38;5;241;43m.\u001b[39;49m\u001b[43mto_graph\u001b[49m()\u001b[38;5;241m.\u001b[39mdraw()\n\u001b[0;32m      2\u001b[0m display(Image(workflow_image))\n",
      "\u001b[1;31mAttributeError\u001b[0m: 'StateGraph' object has no attribute 'to_graph'"
     ]
    }
   ],
   "source": [
    "# workflow_image = workflow.to_graph().draw()\n",
    "# display(Image(workflow_image))"
   ]
  }
 ],
 "metadata": {
  "kernelspec": {
   "display_name": "py310",
   "language": "python",
   "name": "python3"
  },
  "language_info": {
   "codemirror_mode": {
    "name": "ipython",
    "version": 3
   },
   "file_extension": ".py",
   "mimetype": "text/x-python",
   "name": "python",
   "nbconvert_exporter": "python",
   "pygments_lexer": "ipython3",
   "version": "3.10.16"
  }
 },
 "nbformat": 4,
 "nbformat_minor": 2
}
