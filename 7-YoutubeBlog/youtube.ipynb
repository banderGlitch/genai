{
 "cells": [
  {
   "cell_type": "code",
   "execution_count": null,
   "metadata": {},
   "outputs": [],
   "source": [
    "pip install langchain-groq"
   ]
  },
  {
   "cell_type": "code",
   "execution_count": 2,
   "metadata": {},
   "outputs": [],
   "source": [
    "from typing import Annotated\n",
    "from langgraph.graph import StateGraph, START, END\n",
    "from langchain_groq import ChatGroq\n",
    "from typing_extensions import TypedDict\n",
    "from langchain_community.llms import Ollama\n",
    "from langchain_openai import ChatOpenAI\n",
    "from langchain.schema import HumanMessage\n",
    "from youtube_transcript_api import YouTubeTranscriptApi\n",
    "import re\n",
    "from IPython.display import Image, display\n",
    "import requests\n",
    "import json\n",
    "import os\n",
    "from dotenv import load_dotenv\n",
    "from urllib.parse import urlparse, parse_qs\n",
    "# working to get the transcript of the youtube video\n",
    "# Python data structure"
   ]
  },
  {
   "cell_type": "code",
   "execution_count": null,
   "metadata": {},
   "outputs": [],
   "source": [
    "load_dotenv()\n"
   ]
  },
  {
   "cell_type": "code",
   "execution_count": 4,
   "metadata": {},
   "outputs": [],
   "source": [
    "openai_api_key = os.getenv(\"OPENAI_API_KEY\")"
   ]
  },
  {
   "cell_type": "code",
   "execution_count": 5,
   "metadata": {},
   "outputs": [],
   "source": [
    "openai_groq_key = os.getenv(\"GROQ_API_KEY\")"
   ]
  },
  {
   "cell_type": "code",
   "execution_count": 6,
   "metadata": {},
   "outputs": [],
   "source": [
    "llm = ChatGroq(\n",
    "    model=\"llama3-8b-8192\",  # or \"gpt-3.5-turbo\" for a less expensive option\n",
    "    temperature=0,\n",
    "    api_key=openai_groq_key\n",
    ")"
   ]
  },
  {
   "cell_type": "code",
   "execution_count": 7,
   "metadata": {},
   "outputs": [],
   "source": [
    "# llm = ChatOpenAI(\n",
    "#     model=\"gpt-4o-mini\",  # or \"gpt-3.5-turbo\" for a less expensive option\n",
    "#     temperature=0,\n",
    "#     api_key=openai_api_key\n",
    "# )\n",
    "\n"
   ]
  },
  {
   "cell_type": "code",
   "execution_count": 8,
   "metadata": {},
   "outputs": [],
   "source": [
    "from typing import Optional\n",
    "\n",
    "\n",
    "class YoutubeBlogState(TypedDict):\n",
    "    video_url: str\n",
    "    transcript: Annotated[str, \"add_transcript\"]\n",
    "    summary: Annotated[str, \"generate_summary\"]\n",
    "    blog_post: Annotated[str, \"generate_blog_post\"]\n",
    "    human_review: Annotated[Optional[str], \"add_human_review\"]  # Add this line\n",
    "\n"
   ]
  },
  {
   "cell_type": "markdown",
   "metadata": {},
   "source": [
    "# This function extracts the transcript from the YouTube video tools"
   ]
  },
  {
   "cell_type": "code",
   "execution_count": 9,
   "metadata": {},
   "outputs": [],
   "source": [
    "def extract_transcript(state: YoutubeBlogState) -> YoutubeBlogState:\n",
    "    video_url = state['video_url']\n",
    "    try :\n",
    "        # Extract Video ID from URL\n",
    "        video_id = video_url.split('v=')[-1].split('&')[0]\n",
    "        # Fetch transcript from YouTube\n",
    "        transcript = YouTubeTranscriptApi.get_transcript(video_id)\n",
    "        # Convert transcript to text\n",
    "        transcript_text = ' '.join([t['text'] for t in transcript])\n",
    "        # Update state with transcript\n",
    "        state['transcript'] = transcript_text\n",
    "        return state\n",
    "    except Exception as e:\n",
    "        return f\"Error: {str(e)}\"\n"
   ]
  },
  {
   "cell_type": "markdown",
   "metadata": {},
   "source": [
    "# AI agent to summarize the transcript\n",
    "# Prompting the AI to summarize the transcript"
   ]
  },
  {
   "cell_type": "code",
   "execution_count": 10,
   "metadata": {},
   "outputs": [],
   "source": [
    "def summarize_transcript(state: YoutubeBlogState) -> YoutubeBlogState:\n",
    "    transcript = state['transcript']\n",
    "    if not transcript:\n",
    "        return \"No transcript available\"   # if no transcript is available, return an error message\n",
    "    # Initialize OpenAI API client\n",
    "    prompt = f\"\"\"\n",
    "    Summarize the following YouTube transcript while maintaining key insights:\n",
    "    {transcript}\n",
    "    \"\"\"\n",
    "    # Generate summary using OpenAI API\n",
    "    summary = llm.invoke(prompt)\n",
    "    # Update state with summary\n",
    "    state['summary'] = summary\n",
    "    return state"
   ]
  },
  {
   "cell_type": "markdown",
   "metadata": {},
   "source": [
    "# AI agent to generate a blog post from the summary\n"
   ]
  },
  {
   "cell_type": "code",
   "execution_count": 11,
   "metadata": {},
   "outputs": [],
   "source": [
    "def generate_blog_post(state: YoutubeBlogState) -> YoutubeBlogState:\n",
    "    summary = state['summary']\n",
    "    if not summary:\n",
    "        return \"No summary available\"   # if no summary is available, return an error message\n",
    "    # Initialize OpenAI API client\n",
    "    prompt = f\"\"\"\n",
    "    Convert the following summarized transcript into a well-structured blog post:\n",
    "    {summary}\n",
    "    The blog should be engaging, informative, and well-structured with an introduction, key takeaways, and a conclusion. \n",
    "    Also if any code is explained, include in the final blog the code snippet and explain briefly the code as well.\n",
    "    \"\"\"\n",
    "    blog_post = llm.invoke(prompt)\n",
    "    # Update state with blog post\n",
    "    state['blog_post'] = blog_post\n",
    "    return state\n",
    "\n",
    "\n"
   ]
  },
  {
   "cell_type": "markdown",
   "metadata": {},
   "source": [
    "# AI for human review \n"
   ]
  },
  {
   "cell_type": "code",
   "execution_count": 12,
   "metadata": {},
   "outputs": [],
   "source": [
    "def human_review(state: YoutubeBlogState) -> YoutubeBlogState:\n",
    "    blog_post = state['blog_post']\n",
    "    if not blog_post:\n",
    "        return \"No blog post available\"   # if no blog post is available, return an error message\n",
    "    # Initialize OpenAI API client\n",
    "    print(\"Please review the following blog post:\") \n",
    "    decision = input(\"\\nApprove blog? (yes/no): \").strip().lower()\n",
    "    if decision == 'yes':\n",
    "        state[\"review_approved\"] = True\n",
    "        state[\"human_review\"] = \"\" # No feedback needed\n",
    "    else:\n",
    "        state[\"review_approved\"] = False\n",
    "        state[\"human_review\"] =  input(\"\\nProvide feedback for improvement: \")\n",
    "    return state\n",
    "\n",
    "\n"
   ]
  },
  {
   "cell_type": "markdown",
   "metadata": {},
   "source": [
    "# AI agent to revise the blog post"
   ]
  },
  {
   "cell_type": "code",
   "execution_count": 13,
   "metadata": {},
   "outputs": [],
   "source": [
    "def revise_blog(state: YoutubeBlogState) -> YoutubeBlogState:\n",
    "    blog_post = state['blog_post']\n",
    "    feedback = state['human_review']\n",
    "    prompt = f\"\"\"\n",
    "    Revise the following blog post based on the feedback provided:\n",
    "    {blog_post}\n",
    "     The reviewer has given the following feedback:\n",
    "    {feedback}\n",
    "    \"\"\"\n",
    "    revised_blog = llm.invoke(prompt)\n",
    "    state['blog_post'] = revised_blog\n",
    "    return state\n"
   ]
  },
  {
   "cell_type": "code",
   "execution_count": 14,
   "metadata": {},
   "outputs": [],
   "source": [
    "from langgraph.graph import END, START, StateGraph\n",
    "\n",
    "def should_continue(state: YoutubeBlogState) -> YoutubeBlogState:\n",
    "    \"\"\" Return the next node to execute \"\"\"\n",
    "\n",
    "    # Check if approved\n",
    "    if state[\"review_approved\"]:\n",
    "        return END\n",
    "    \n",
    "    # Otherwise \n",
    "    return \"revise_blog\"\n",
    "\n"
   ]
  },
  {
   "cell_type": "code",
   "execution_count": 15,
   "metadata": {},
   "outputs": [],
   "source": [
    "workflow = StateGraph(YoutubeBlogState)\n"
   ]
  },
  {
   "cell_type": "code",
   "execution_count": null,
   "metadata": {},
   "outputs": [],
   "source": [
    "# Define the workflow\n",
    "workflow.add_node(\"extract_transcript\", extract_transcript)\n",
    "workflow.add_node(\"summarize_transcript\", summarize_transcript)\n",
    "workflow.add_node(\"generate_blog_post\", generate_blog_post)\n",
    "workflow.add_node(\"human_review_node\", human_review)\n",
    "workflow.add_node(\"revise_blog\", revise_blog)\n",
    "\n",
    "# Define the edges\n",
    "workflow.add_edge(START, \"extract_transcript\")\n",
    "workflow.add_edge(\"extract_transcript\", \"summarize_transcript\")\n",
    "workflow.add_edge(\"summarize_transcript\", \"generate_blog_post\")\n",
    "workflow.add_edge(\"generate_blog_post\", \"human_review_node\")\n",
    "workflow.add_conditional_edges(\"human_review_node\", should_continue,[\"revise_blog\",END])\n",
    "workflow.add_edge(\"revise_blog\", \"human_review_node\")\n",
    "\n",
    "# Run the workflow\n",
    "# workflow.compile()\n",
    "# workflow.invoke({\"video_url\": \"https://www.youtube.com/watch?v=dQw4w9WgXcQ\"})\n"
   ]
  },
  {
   "cell_type": "code",
   "execution_count": 17,
   "metadata": {},
   "outputs": [],
   "source": [
    "# Run the workflow\n",
    "compiled_graph = workflow.compile()"
   ]
  },
  {
   "cell_type": "code",
   "execution_count": 18,
   "metadata": {},
   "outputs": [],
   "source": [
    "# Make sure all required keys are in the initial state\n",
    "initial_state = {\n",
    "    \"video_url\": \"https://www.youtube.com/watch?v=dQw4w9WgXcQ\",\n",
    "    \"human_review\": None  # Initialize with a default value\n",
    "}"
   ]
  },
  {
   "cell_type": "code",
   "execution_count": null,
   "metadata": {},
   "outputs": [],
   "source": [
    "compiled_graph.invoke(initial_state)"
   ]
  }
 ],
 "metadata": {
  "kernelspec": {
   "display_name": "py310",
   "language": "python",
   "name": "python3"
  },
  "language_info": {
   "codemirror_mode": {
    "name": "ipython",
    "version": 3
   },
   "file_extension": ".py",
   "mimetype": "text/x-python",
   "name": "python",
   "nbconvert_exporter": "python",
   "pygments_lexer": "ipython3",
   "version": "3.10.16"
  }
 },
 "nbformat": 4,
 "nbformat_minor": 2
}
